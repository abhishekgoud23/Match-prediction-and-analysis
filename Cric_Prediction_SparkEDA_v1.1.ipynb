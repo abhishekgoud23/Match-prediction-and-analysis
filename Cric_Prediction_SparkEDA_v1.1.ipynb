{
 "cells": [
  {
   "cell_type": "code",
   "execution_count": 1,
   "id": "bde707f1",
   "metadata": {},
   "outputs": [
    {
     "name": "stdout",
     "output_type": "stream",
     "text": [
      "Requirement already satisfied: pyspark in c:\\users\\1412r\\anaconda3\\lib\\site-packages (3.3.2)\n",
      "Requirement already satisfied: py4j==0.10.9.5 in c:\\users\\1412r\\anaconda3\\lib\\site-packages (from pyspark) (0.10.9.5)\n"
     ]
    }
   ],
   "source": [
    "!pip install pyspark"
   ]
  },
  {
   "cell_type": "code",
   "execution_count": 2,
   "id": "d1f8c673",
   "metadata": {},
   "outputs": [],
   "source": [
    "from pyspark.sql import SparkSession\n"
   ]
  },
  {
   "cell_type": "code",
   "execution_count": 3,
   "id": "c319045e",
   "metadata": {},
   "outputs": [],
   "source": [
    "spark = SparkSession.builder.appName('Match Analysis and prediction').getOrCreate()\n"
   ]
  },
  {
   "cell_type": "code",
   "execution_count": 4,
   "id": "7b286c5c",
   "metadata": {},
   "outputs": [
    {
     "data": {
      "text/plain": [
       "DataFrame[_c0: string, season: string, id: string, match_between: string, home_team: string, away_team: string, toss_won: string, decision: string, 1st_inning_score: string, 2nd_inning_score: string, home_score: string, away_score: string, winner: string, result: string, venue: string, home_captain: string, away_captain: string, player_of_the_match: string, super_over: string, home_overs: string, home_runs: string, home_wickets: string, home_boundaries: string, away_overs: string, away_runs: string, away_wickets: string, away_boundaries: string, home_key_batsman: string, home_key_bowler: string, away_key_batsman: string, away_key_bowler: string, part_of_the_day: string]"
      ]
     },
     "execution_count": 4,
     "metadata": {},
     "output_type": "execute_result"
    }
   ],
   "source": [
    "#Load pre-processed data\n",
    "df = spark.read.format('csv').option('header', 'true').load('cleaned_Cric_summary.csv')\n",
    "df"
   ]
  },
  {
   "cell_type": "code",
   "execution_count": 5,
   "id": "3bc4f2a1",
   "metadata": {},
   "outputs": [
    {
     "name": "stdout",
     "output_type": "stream",
     "text": [
      "+---+------+-------+-------------+---------+---------+--------+----------+----------------+----------------+----------+----------+------+--------------------+--------------------+-----------------+--------------+--------------------+----------+----------+---------+------------+---------------+----------+---------+------------+---------------+--------------------+--------------------+--------------------+--------------------+---------------+\n",
      "|_c0|season|     id|match_between|home_team|away_team|toss_won|  decision|1st_inning_score|2nd_inning_score|home_score|away_score|winner|              result|               venue|     home_captain|  away_captain| player_of_the_match|super_over|home_overs|home_runs|home_wickets|home_boundaries|away_overs|away_runs|away_wickets|away_boundaries|    home_key_batsman|     home_key_bowler|    away_key_batsman|     away_key_bowler|part_of_the_day|\n",
      "+---+------+-------+-------------+---------+---------+--------+----------+----------------+----------------+----------+----------+------+--------------------+--------------------+-----------------+--------------+--------------------+----------+----------+---------+------------+---------------+----------+---------+------------+---------------+--------------------+--------------------+--------------------+--------------------+---------------+\n",
      "| 53|  2022|1304100|    SRH v RCB|      SRH|      RCB|     RCB| BAT FIRST|           192/3|          125/10|    125/10|     192/3|   RCB|  RCB won by 67 runs|Wankhede Stadium,...|  Kane Williamson|Faf du Plessis|Wanindu Hasaranga...|     False|      19.2|    125.0|        10.0|           15.0|      20.0|    192.0|         3.0|           26.0|Rahul Tripathi,Ai...|Jagadeesha Suchit...|Faf du Plessis,Ra...|Wanindu Hasaranga...|      day/night|\n",
      "|128|  2021|1254063|    SRH v RCB|      SRH|      RCB|     SRH|BOWL FIRST|           149/8|           143/9|     143/9|     149/8|   RCB|   RCB won by 6 runs|MA Chidambaram St...|     David Warner|   Virat Kohli|       Glenn Maxwell|     False|      20.0|    143.0|         9.0|           15.0|      20.0|    149.0|         8.0|           18.0|David Warner,Mani...|Jason Holder,Rash...|Glenn Maxwell,Vir...|Shahbaz Ahmed,Moh...|          night|\n",
      "|136|  2020|1216534|    SRH v RCB|      SRH|      RCB|     SRH|BOWL FIRST|           163/5|          153/10|    153/10|     163/5|   RCB|  RCB won by 10 runs|Dubai Internation...|     David Warner|   Virat Kohli|    Yuzvendra Chahal|     False|      19.4|    153.0|        10.0|           17.0|      20.0|    163.0|         5.0|           17.0|Jonny Bairstow,Ma...|Abhishek Sharma,V...|Devdutt Padikkal,...|Yuzvendra Chahal,...|          night|\n",
      "|204|  2019|1175366|    SRH v RCB|      SRH|      RCB|     RCB|BOWL FIRST|           231/2|          113/10|     231/2|    113/10|   SRH|Sunrisers won by ...|Rajiv Gandhi Inte...|Bhuvneshwar Kumar|   Virat Kohli|      Jonny Bairstow|     False|      20.0|    231.0|         2.0|           30.0|      19.5|    113.0|        10.0|           13.0|Jonny Bairstow,Da...|Mohammad Nabi,San...|Colin de Grandhom...|Yuzvendra Chahal,...|      day/night|\n",
      "|292|  2018|1136599|    SRH v RCB|      SRH|      RCB|     RCB|BOWL FIRST|          146/10|           141/6|    146/10|     141/6|   SRH|Sunrisers won by ...|Rajiv Gandhi Inte...|  Kane Williamson|   Virat Kohli|     Kane Williamson|     False|      20.0|    146.0|        10.0|           17.0|      20.0|    141.0|         6.0|           16.0|Kane Williamson,S...|Shakib Al Hasan,S...|Virat Kohli,Colin...|Mohammed Siraj,Ti...|          night|\n",
      "|314|  2017|1082591|    SRH v RCB|      SRH|      RCB|     RCB|BOWL FIRST|           207/4|          172/10|     207/4|    172/10|   SRH|Sunrisers won by ...|Rajiv Gandhi Inte...|     David Warner|  Shane Watson|        Yuvraj Singh|     False|      20.0|    207.0|         4.0|           26.0|      19.4|    172.0|        10.0|           23.0|Yuvraj Singh,Mois...|Bhuvneshwar Kumar...|Chris Gayle,Kedar...|Yuzvendra Chahal,...|          night|\n",
      "|400|  2016| 980953|    SRH v RCB|      SRH|      RCB|     RCB|BOWL FIRST|           194/5|           179/6|     194/5|     179/6|   SRH|Sunrisers won by ...|Rajiv Gandhi Inte...|     David Warner|   Virat Kohli|        David Warner|     False|      20.0|    194.0|         5.0|           27.0|      20.0|    179.0|         6.0|           20.0|David Warner,Kane...|Ashish Nehra,Must...|KL Rahul,AB de Vi...|Kane Richardson,S...|          night|\n",
      "|485|  2015| 829807|    SRH v RCB|      SRH|      RCB|     SRH| BAT FIRST|           135/3|            83/4|     135/3|      83/4|   RCB|RCB won by 6 wick...|Rajiv Gandhi Inte...|     David Warner|   Virat Kohli|         Virat Kohli|     False|      11.0|    135.0|         3.0|           17.0|       5.5|     83.0|         4.0|           13.0|Moises Henriques,...|Moises Henriques,...|Virat Kohli,Chris...|David Wiese,Mitch...|          night|\n",
      "|539|  2014| 734021|    SRH v RCB|      SRH|      RCB|     RCB| BAT FIRST|           160/6|           161/3|     161/3|     160/6|   SRH|Sunrisers won by ...|Rajiv Gandhi Inte...|      Daren Sammy|   Virat Kohli|        David Warner|     False|      19.4|    161.0|         3.0|           19.0|      20.0|    160.0|         6.0|           19.0|David Warner,Shik...|Bhuvneshwar Kumar...|Virat Kohli,AB de...|Varun Aaron,Yuvra...|      day/night|\n",
      "|560|  2013| 598004|    SRH v RCB|      SRH|      RCB|     RCB| BAT FIRST|           130/8|           130/7|     130/7|     130/8|   SRH|Match tied (Sunri...|Rajiv Gandhi Inte...| Kumar Sangakkara|   Virat Kohli|       Hanuma Vihari|      True|      20.0|    130.0|         7.0|            8.0|      20.0|    130.0|         8.0|           12.0|Hanuma Vihari,Aks...|Ishant Sharma,Han...|Virat Kohli,Moise...|Moises Henriques,...|          night|\n",
      "|700|  2012| 548376|     DC v RCB|      SRH|      RCB|     RCB|BOWL FIRST|           132/7|           123/9|     132/7|     123/9|   SRH|Chargers won by 9...|Rajiv Gandhi Inte...| Kumar Sangakkara|   Virat Kohli|          Dale Steyn|     False|      20.0|    132.0|         7.0|           12.0|      20.0|    123.0|         9.0|           12.0|Jean-Paul Duminy,...|Dale Steyn,Ashish...|Virat Kohli,Saura...|Vinay Kumar,Zahee...|      day/night|\n",
      "|716|  2011| 501208|     DC v RCB|      SRH|      RCB|     RCB|BOWL FIRST|           175/5|           142/9|     175/5|     142/9|   SRH|Chargers won by 3...|Rajiv Gandhi Inte...| Kumar Sangakkara|Daniel Vettori|          Dale Steyn|     False|      20.0|    175.0|         5.0|           23.0|      20.0|    142.0|         9.0|           15.0|Bharat Chipli,Sun...|Dale Steyn,Manpre...|Virat Kohli,Chete...|Zaheer Khan,Johan...|          night|\n",
      "|825|  2010| 419151|     DC v RCB|      SRH|      RCB|     RCB|BOWL FIRST|           151/6|          138/10|     151/6|    138/10|   SRH|Chargers won by 1...|Vidarbha Cricket ...|   Adam Gilchrist|   Anil Kumble|       Harmeet Singh|     False|      20.0|    151.0|         6.0|           16.0|      19.4|    138.0|        10.0|           12.0|Rohit Sharma,Mohn...|RP Singh,Pragyan ...|Rahul Dravid,Robi...|Dale Steyn,Vinay ...|          night|\n",
      "|838|  2010| 419164|     DC v RCB|      SRH|      RCB|     SRH| BAT FIRST|           82/10|            86/1|     82/10|      86/1|   RCB|RCB won by 9 wickets|Dr DY Patil Sport...|   Adam Gilchrist|   Anil Kumble|         Anil Kumble|     False|      18.3|     82.0|        10.0|           10.0|      13.5|     86.0|         1.0|           11.0|Anirudh Singh,Ven...|Rahul Sharma,Ryan...|Rahul Dravid,Kevi...|Anil Kumble,Jacqu...|          night|\n",
      "|898|  2009| 392239|     DC v RCB|      SRH|      RCB|     RCB|BOWL FIRST|           143/6|           137/9|     143/6|     137/9|   SRH|Chargers won by 6...|The Wanderers Sta...|   Adam Gilchrist|   Anil Kumble|         Anil Kumble|     False|      20.0|    143.0|         6.0|           13.0|      20.0|    137.0|         9.0|           15.0|Herschelle Gibbs,...|Pragyan Ojha,Andr...|Roelof van der Me...|Anil Kumble,Vinay...|      day/night|\n",
      "|949|  2008| 336002|     DC v RCB|      SRH|      RCB|     SRH| BAT FIRST|          165/10|           171/5|    165/10|     171/5|   RCB|RCB won by 5 wick...|Rajiv Gandhi Inte...|   Adam Gilchrist|  Rahul Dravid|         Vinay Kumar|     False|      20.0|    165.0|        10.0|           22.0|      19.0|    171.0|         5.0|           26.0|Herschelle Gibbs,...|Sanjay Bangar,Dwa...|Misbah-ul-Haq,Cam...|Vinay Kumar,Dale ...|      day/night|\n",
      "+---+------+-------+-------------+---------+---------+--------+----------+----------------+----------------+----------+----------+------+--------------------+--------------------+-----------------+--------------+--------------------+----------+----------+---------+------------+---------------+----------+---------+------------+---------------+--------------------+--------------------+--------------------+--------------------+---------------+\n",
      "\n"
     ]
    }
   ],
   "source": [
    "df_filtered = df.filter((df['home_team'] == 'SRH') & (df['away_team'] == 'RCB'))\n",
    "df_filtered.show()"
   ]
  },
  {
   "cell_type": "code",
   "execution_count": 6,
   "id": "2e602bdb",
   "metadata": {},
   "outputs": [
    {
     "name": "stdout",
     "output_type": "stream",
     "text": [
      "+-------+------------------+------------------+-----------------+-------------+---------+---------+--------+----------+----------------+----------------+----------+----------+------+--------------------+--------------------+------------+------------+-------------------+----------+------------------+------------------+------------------+-----------------+------------------+-----------------+-----------------+------------------+--------------------+--------------------+--------------------+--------------------+---------------+\n",
      "|summary|               _c0|            season|               id|match_between|home_team|away_team|toss_won|  decision|1st_inning_score|2nd_inning_score|home_score|away_score|winner|              result|               venue|home_captain|away_captain|player_of_the_match|super_over|        home_overs|         home_runs|      home_wickets|  home_boundaries|        away_overs|        away_runs|     away_wickets|   away_boundaries|    home_key_batsman|     home_key_bowler|    away_key_batsman|     away_key_bowler|part_of_the_day|\n",
      "+-------+------------------+------------------+-----------------+-------------+---------+---------+--------+----------+----------------+----------------+----------+----------+------+--------------------+--------------------+------------+------------+-------------------+----------+------------------+------------------+------------------+-----------------+------------------+-----------------+-----------------+------------------+--------------------+--------------------+--------------------+--------------------+---------------+\n",
      "|  count|               935|               935|              935|          935|      935|      935|     935|       935|             935|             935|       935|       935|   935|                 935|                 935|         935|         935|                935|       935|               935|               935|               935|              935|               935|              935|              935|               935|                 935|                 935|                 935|                 935|            935|\n",
      "|   mean|472.75828877005347|2015.0620320855614|835118.3550802139|         null|     null|     null|    null|      null|            null|            null|      null|      null|  null|                null|                null|        null|        null|               null|      null| 19.12181818181818| 157.4139037433155| 5.770053475935829|19.21390374331551| 19.07508021390375|154.5422459893048|5.946524064171123|18.836363636363636|                null|                null|                null|                null|           null|\n",
      "| stddev| 276.0014922787725| 4.307804050525186|337060.0592248193|         null|     null|     null|    null|      null|            null|            null|      null|      null|  null|                null|                null|        null|        null|               null|      null|1.9756371885935606|30.914727286911784|2.3985991399974207|5.761611425806856|2.0979110056857166|30.79054892126872|2.520011174648196| 5.582164511952775|                null|                null|                null|                null|           null|\n",
      "|    min|                 0|              2008|          1082591|     CSK v DC|      CSK|      CSK|     CSK| BAT FIRST|          100/10|          100/10|     101/5|    100/10|   CSK|Capitals won by 1...|Arun Jaitley Stad...| Aaron Finch| Aaron Finch|     AB de Villiers|     False|              10.0|             101.0|               0.0|             10.0|              10.0|            100.0|              0.0|              10.0|AB de Villiers,Aa...|Abhishek Sharma,V...|AB de Villiers,Br...|Aaron Finch,Yuvra...|      day/night|\n",
      "|    max|                99|              2022|           981019|     SRH v RR|      SRH|      SRH|     SRH|BOWL FIRST|            99/9|            99/2|      99/9|      99/2|   SRH|Warriors won by 7...|Wankhede Stadium,...| Zaheer Khan| Zaheer Khan|        Zaheer Khan|      True|               9.4|              99.0|               9.0|              9.0|               9.4|             99.0|              9.0|               9.0|Yuvraj Singh,Sach...|Zaheer Khan,Vinay...|Yuvraj Singh,Vira...|Zaheer Khan,Prasa...|          night|\n",
      "+-------+------------------+------------------+-----------------+-------------+---------+---------+--------+----------+----------------+----------------+----------+----------+------+--------------------+--------------------+------------+------------+-------------------+----------+------------------+------------------+------------------+-----------------+------------------+-----------------+-----------------+------------------+--------------------+--------------------+--------------------+--------------------+---------------+\n",
      "\n"
     ]
    }
   ],
   "source": [
    "df.describe().show()\n"
   ]
  },
  {
   "cell_type": "code",
   "execution_count": 7,
   "id": "40edccd1",
   "metadata": {},
   "outputs": [
    {
     "name": "stdout",
     "output_type": "stream",
     "text": [
      "+---+------+-------+-------------+---------+---------+--------+----------+----------------+----------------+----------+----------+------+--------------------+--------------------+---------------+---------------+--------------------+----------+----------+---------+------------+---------------+----------+---------+------------+---------------+--------------------+--------------------+--------------------+--------------------+---------------+------------------+\n",
      "|_c0|season|     id|match_between|home_team|away_team|toss_won|  decision|1st_inning_score|2nd_inning_score|home_score|away_score|winner|              result|               venue|   home_captain|   away_captain| player_of_the_match|super_over|home_overs|home_runs|home_wickets|home_boundaries|away_overs|away_runs|away_wickets|away_boundaries|    home_key_batsman|     home_key_bowler|    away_key_batsman|     away_key_bowler|part_of_the_day|toss_win_match_win|\n",
      "+---+------+-------+-------------+---------+---------+--------+----------+----------------+----------------+----------+----------+------+--------------------+--------------------+---------------+---------------+--------------------+----------+----------+---------+------------+---------------+----------+---------+------------+---------------+--------------------+--------------------+--------------------+--------------------+---------------+------------------+\n",
      "|  0|  2022|1304047|    CSK v KKR|      CSK|      KKR|     KKR|BOWL FIRST|           131/5|           133/4|     131/5|     133/4|   KKR|KKR won by 6 wkts...|Wankhede Stadium,...|Ravindra Jadeja|   Shreyas Iyer|         Umesh Yadav|     False|      20.0|    131.0|         5.0|           15.0|      18.3|    133.0|         4.0|           15.0|MS Dhoni,Robin Ut...|Dwayne Bravo,Mitc...|Ajinkya Rahane,Sa...|Umesh Yadav,Varun...|          night|               Yes|\n",
      "|  1|  2022|1304048|      DC v MI|       DC|       MI|      DC|BOWL FIRST|           177/5|           179/6|     179/6|     177/5|    DC|Capitals won by 4...|Brabourne Stadium...|   Rishabh Pant|   Rohit Sharma|       Kuldeep Yadav|     False|      18.2|    179.0|         6.0|           25.0|      20.0|    177.0|         5.0|           24.0|Lalit Yadav,Axar ...|Kuldeep Yadav,Kha...|Ishan Kishan,Rohi...|Basil Thampi,Muru...|      day/night|               Yes|\n",
      "|  2|  2022|1304049|   PBKS v RCB|     PBKS|      RCB|    PBKS|BOWL FIRST|           205/2|           208/5|     208/5|     205/2|  PBKS|Punjab Kings won ...|Dr DY Patil Sport...| Mayank Agarwal| Faf du Plessis|         Odean Smith|     False|      19.0|    208.0|         5.0|           25.0|      20.0|    205.0|         2.0|           22.0|Bhanuka Rajapaksa...|Rahul Chahar,Arsh...|Faf du Plessis,Vi...|Mohammed Siraj,Ha...|          night|               Yes|\n",
      "|  3|  2022|1304050|     GT v LSG|       GT|      LSG|      GT|BOWL FIRST|           158/6|           161/5|     161/5|     158/6|    GT|Titans won by 5 w...|Wankhede Stadium,...|  Hardik Pandya|       KL Rahul|      Mohammed Shami|     False|      19.4|    161.0|         5.0|           23.0|      20.0|    158.0|         6.0|           22.0|Rahul Tewatia,Har...|Mohammed Shami,Va...|Deepak Hooda,Ayus...|Dushmantha Chamee...|          night|               Yes|\n",
      "|  4|  2022|1304051|     SRH v RR|      SRH|       RR|     SRH|BOWL FIRST|           210/6|           149/7|     149/7|     210/6|    RR|Royals won by 61 ...|Maharashtra Crick...|Kane Williamson|   Sanju Samson|        Sanju Samson|     False|      20.0|    149.0|         7.0|           17.0|      20.0|    210.0|         6.0|           30.0|Aiden Markram,Was...|Umran Malik,T Nat...|Sanju Samson,Devd...|Yuzvendra Chahal,...|          night|                No|\n",
      "|  5|  2022|1304052|    RCB v KKR|      RCB|      KKR|     RCB|BOWL FIRST|          128/10|           132/7|     132/7|    128/10|   RCB|RCB won by 3 wkts...|Dr DY Patil Sport...| Faf du Plessis|   Shreyas Iyer|Wanindu Hasaranga...|     False|      19.2|    132.0|         7.0|           16.0|      18.5|    128.0|        10.0|           18.0|Sherfane Rutherfo...|Wanindu Hasaranga...|Andre Russell,Ume...|Tim Southee,Umesh...|          night|               Yes|\n",
      "|  6|  2022|1304053|    LSG v CSK|      LSG|      CSK|     LSG|BOWL FIRST|           210/7|           211/4|     211/4|     210/7|   LSG|Super Giants won ...|Brabourne Stadium...|       KL Rahul|Ravindra Jadeja|          Evin Lewis|     False|      19.3|    211.0|         4.0|           27.0|      20.0|    210.0|         7.0|           32.0|Quinton de Kock,E...|Ravi Bishnoi,Aves...|Robin Uthappa,Shi...|Dwaine Pretorius,...|          night|               Yes|\n",
      "|  7|  2022|1304054|   KKR v PBKS|      KKR|     PBKS|     KKR|BOWL FIRST|          137/10|           141/4|     141/4|    137/10|   KKR|KKR won by 6 wkts...|Wankhede Stadium,...|   Shreyas Iyer| Mayank Agarwal|         Umesh Yadav|     False|      14.3|    141.0|         4.0|           20.0|      18.2|    137.0|        10.0|           19.0|Andre Russell,Shr...|Umesh Yadav,Tim S...|Bhanuka Rajapaksa...|Rahul Chahar,Kagi...|          night|               Yes|\n",
      "|  8|  2022|1304055|      MI v RR|       MI|       RR|      MI|BOWL FIRST|           193/8|           170/8|     170/8|     193/8|    RR|Royals won by 23 ...|Dr DY Patil Sport...|   Rohit Sharma|   Sanju Samson|         Jos Buttler|     False|      20.0|    170.0|         8.0|           21.0|      20.0|    193.0|         8.0|           28.0|Tilak Varma,Ishan...|Jasprit Bumrah,Ty...|Jos Buttler,Shimr...|Yuzvendra Chahal,...|      day/night|                No|\n",
      "|  9|  2022|1304056|      GT v DC|       GT|       DC|      DC|BOWL FIRST|           171/6|           157/9|     171/6|     157/9|    GT|Titans won by 14 ...|Maharashtra Crick...|  Hardik Pandya|   Rishabh Pant|     Lockie Ferguson|     False|      20.0|    171.0|         6.0|           19.0|      20.0|    157.0|         9.0|           21.0|Shubman Gill,Hard...|Lockie Ferguson,M...|Rishabh Pant,Lali...|Mustafizur Rahman...|          night|                No|\n",
      "| 10|  2022|1304057|   CSK v PBKS|      CSK|     PBKS|     CSK|BOWL FIRST|           180/8|          126/10|    126/10|     180/8|  PBKS|Punjab Kings won ...|Brabourne Stadium...|Ravindra Jadeja| Mayank Agarwal|    Liam Livingstone|     False|      18.0|    126.0|        10.0|           16.0|      20.0|    180.0|         8.0|           23.0|Shivam Dube,MS Dhoni|Chris Jordan,Dwai...|Liam Livingstone,...|Rahul Chahar,Vaib...|          night|                No|\n",
      "| 11|  2022|1304058|    SRH v LSG|      SRH|      LSG|     SRH|BOWL FIRST|           169/7|           157/9|     157/9|     169/7|   LSG|Super Giants won ...|Dr DY Patil Sport...|Kane Williamson|       KL Rahul|          Avesh Khan|     False|      20.0|    157.0|         9.0|           17.0|      20.0|    169.0|         7.0|           20.0|Rahul Tripathi,Ni...|T Natarajan,Washi...|KL Rahul,Deepak H...|Avesh Khan,Jason ...|          night|                No|\n",
      "| 12|  2022|1304059|     RR v RCB|       RR|      RCB|     RCB|BOWL FIRST|           169/3|           173/6|     169/3|     173/6|   RCB|RCB won by 4 wkts...|Wankhede Stadium,...|   Sanju Samson| Faf du Plessis|      Dinesh Karthik|     False|      20.0|    169.0|         3.0|           17.0|      19.1|    173.0|         6.0|           25.0|Jos Buttler,Shimr...|Yuzvendra Chahal,...|Shahbaz Ahmed,Din...|Harshal Patel,Dav...|          night|               Yes|\n",
      "| 13|  2022|1304060|     KKR v MI|      KKR|       MI|     KKR|BOWL FIRST|           161/4|           162/5|     162/5|     161/4|   KKR|KKR won by 5 wkts...|Maharashtra Crick...|   Shreyas Iyer|   Rohit Sharma|         Pat Cummins|     False|      16.0|    162.0|         5.0|           24.0|      20.0|    161.0|         4.0|           20.0|Pat Cummins,Venka...|Pat Cummins,Umesh...|Suryakumar Yadav,...|Murugan Ashwin,Ty...|          night|               Yes|\n",
      "| 14|  2022|1304061|     LSG v DC|      LSG|       DC|     LSG|BOWL FIRST|           149/3|           155/4|     155/4|     149/3|   LSG|Super Giants won ...|Dr DY Patil Sport...|       KL Rahul|   Rishabh Pant|     Quinton de Kock|     False|      19.4|    155.0|         4.0|           16.0|      20.0|    149.0|         3.0|           19.0|Quinton de Kock,K...|Ravi Bishnoi,Kris...|Prithvi Shaw,Rish...|Kuldeep Yadav,Lal...|          night|               Yes|\n",
      "| 15|  2022|1304062|    PBKS v GT|     PBKS|       GT|      GT|BOWL FIRST|           189/9|           190/4|     189/9|     190/4|    GT|Titans won by 6 w...|Brabourne Stadium...| Mayank Agarwal|  Hardik Pandya|        Shubman Gill|     False|      20.0|    189.0|         9.0|           27.0|      20.0|    190.0|         4.0|           26.0|Liam Livingstone,...|Kagiso Rabada,Rah...|Shubman Gill,Sai ...|Rashid Khan,Darsh...|          night|               Yes|\n",
      "| 16|  2022|1304063|    CSK v SRH|      CSK|      SRH|     SRH|BOWL FIRST|           154/7|           155/2|     154/7|     155/2|   SRH|Sunrisers won by ...|Dr DY Patil Sport...|Ravindra Jadeja|Kane Williamson|     Abhishek Sharma|     False|      20.0|    154.0|         7.0|           17.0|      17.4|    155.0|         2.0|           19.0|Moeen Ali,Ambati ...|Mukesh Choudhary,...|Abhishek Sharma,R...|Washington Sundar...|      day/night|               Yes|\n",
      "| 17|  2022|1304064|     RCB v MI|      RCB|       MI|     RCB|BOWL FIRST|           151/6|           152/3|     152/3|     151/6|   RCB|RCB won by 7 wkts...|Maharashtra Crick...| Faf du Plessis|   Rohit Sharma|          Anuj Rawat|     False|      18.3|    152.0|         3.0|           17.0|      20.0|    151.0|         6.0|           21.0|Anuj Rawat,Virat ...|Harshal Patel,Wan...|Suryakumar Yadav,...|Jaydev Unadkat,De...|          night|               Yes|\n",
      "| 18|  2022|1304065|     KKR v DC|      KKR|       DC|     KKR|BOWL FIRST|           215/5|          171/10|    171/10|     215/5|    DC|Capitals won by 4...|Brabourne Stadium...|   Shreyas Iyer|   Rishabh Pant|       Kuldeep Yadav|     False|      19.4|    171.0|        10.0|           22.0|      20.0|    215.0|         5.0|           29.0|Shreyas Iyer,Niti...|Sunil Narine,Andr...|David Warner,Prit...|Kuldeep Yadav,Kha...|      day/night|                No|\n",
      "| 19|  2022|1304066|     RR v LSG|       RR|      LSG|     LSG|BOWL FIRST|           165/6|           162/8|     165/6|     162/8|    RR|Royals won by 3 runs|Wankhede Stadium,...|   Sanju Samson|       KL Rahul|    Yuzvendra Chahal|     False|      20.0|    165.0|         6.0|           19.0|      20.0|    162.0|         8.0|           19.0|Shimron Hetmyer,D...|Yuzvendra Chahal,...|Quinton de Kock,M...|Krishnappa Gowtha...|          night|                No|\n",
      "+---+------+-------+-------------+---------+---------+--------+----------+----------------+----------------+----------+----------+------+--------------------+--------------------+---------------+---------------+--------------------+----------+----------+---------+------------+---------------+----------+---------+------------+---------------+--------------------+--------------------+--------------------+--------------------+---------------+------------------+\n",
      "only showing top 20 rows\n",
      "\n"
     ]
    }
   ],
   "source": [
    "from pyspark.sql.functions import when\n",
    "\n",
    "df = df.withColumn('toss_win_match_win', when(df['toss_won'] == df['winner'], 'Yes').otherwise('No'))\n",
    "df.show()"
   ]
  },
  {
   "cell_type": "code",
   "execution_count": 8,
   "id": "8dcdb4d8",
   "metadata": {},
   "outputs": [
    {
     "name": "stdout",
     "output_type": "stream",
     "text": [
      "+----------+---------+-------------+\n",
      "|  decision|toss_wins|total_matches|\n",
      "+----------+---------+-------------+\n",
      "| BAT FIRST|      153|          344|\n",
      "|BOWL FIRST|      332|          591|\n",
      "+----------+---------+-------------+\n",
      "\n"
     ]
    }
   ],
   "source": [
    "from pyspark.sql.functions import count\n",
    "\n",
    "toss_decision_wins = df.groupBy('decision').agg(count(when(df['toss_win_match_win'] == 'Yes', True)), count('id'))\n",
    "toss_decision_wins = toss_decision_wins.withColumnRenamed('count(CASE WHEN (toss_win_match_win = Yes) THEN true END)', 'toss_wins').withColumnRenamed('count(id)', 'total_matches')\n",
    "toss_decision_wins.show()\n"
   ]
  },
  {
   "cell_type": "code",
   "execution_count": 9,
   "id": "3080d00e",
   "metadata": {},
   "outputs": [
    {
     "name": "stdout",
     "output_type": "stream",
     "text": [
      "+----------+---------+-------------+-------------------+\n",
      "|  decision|toss_wins|total_matches|toss_win_percentage|\n",
      "+----------+---------+-------------+-------------------+\n",
      "| BAT FIRST|      153|          344|              44.48|\n",
      "|BOWL FIRST|      332|          591|              56.18|\n",
      "+----------+---------+-------------+-------------------+\n",
      "\n"
     ]
    }
   ],
   "source": [
    "from pyspark.sql.functions import round\n",
    "\n",
    "toss_decision_wins = toss_decision_wins.withColumn('toss_win_percentage', round(toss_decision_wins['toss_wins'] / toss_decision_wins['total_matches'] * 100, 2))\n",
    "toss_decision_wins.show()"
   ]
  },
  {
   "cell_type": "code",
   "execution_count": 10,
   "id": "69b55003",
   "metadata": {},
   "outputs": [
    {
     "data": {
      "image/png": "[encoded data removed]",
      "text/plain": [
       "<Figure size 432x288 with 1 Axes>"
      ]
     },
     "metadata": {
      "needs_background": "light"
     },
     "output_type": "display_data"
    }
   ],
   "source": [
    "import matplotlib.pyplot as plt\n",
    "\n",
    "toss_decision_wins_pd = toss_decision_wins.toPandas()\n",
    "toss_decision_wins_pd.plot(kind='bar', x='decision', y='toss_win_percentage', title='Impact of Toss Decision on Match Outcome')\n",
    "plt.show()\n"
   ]
  },
  {
   "cell_type": "code",
   "execution_count": 11,
   "id": "aa2f2084",
   "metadata": {},
   "outputs": [
    {
     "name": "stdout",
     "output_type": "stream",
     "text": [
      "+------+----+\n",
      "|winner|wins|\n",
      "+------+----+\n",
      "|   KKR| 115|\n",
      "| Kochi|   6|\n",
      "|    DC|  94|\n",
      "|    GL|  13|\n",
      "|    RR|  94|\n",
      "|   LSG|   9|\n",
      "|    MI| 131|\n",
      "|    GT|  12|\n",
      "|   CSK| 122|\n",
      "|   SRH| 103|\n",
      "|   RCB| 108|\n",
      "|   RPS|  15|\n",
      "|   PWI|  12|\n",
      "|  PBKS| 101|\n",
      "+------+----+\n",
      "\n"
     ]
    }
   ],
   "source": [
    "team_wins = df.groupBy('winner').agg(count('id').alias('wins'))\n",
    "team_wins.show()"
   ]
  },
  {
   "cell_type": "code",
   "execution_count": 12,
   "id": "5cafa18c",
   "metadata": {},
   "outputs": [
    {
     "data": {
      "image/png": "[encoded data removed]",
      "text/plain": [
       "<Figure size 432x288 with 1 Axes>"
      ]
     },
     "metadata": {},
     "output_type": "display_data"
    },
    {
     "data": {
      "image/png": "[encoded data removed]",
      "text/plain": [
       "<Figure size 432x288 with 1 Axes>"
      ]
     },
     "metadata": {
      "needs_background": "light"
     },
     "output_type": "display_data"
    }
   ],
   "source": [
    "team_wins_pd = team_wins.toPandas()\n",
    "\n",
    "# Plot a pie chart of the number of games won by each team\n",
    "colors = ['#800080','#000000','#000080','#000000','#FFC0CB','#FFD700','#004b8d','#8b0000','#FFFF00','#FFA500','#FF0000','#000000','#000000','#DD1F2D']\n",
    "\n",
    "plt.pie(team_wins_pd['wins'], labels=team_wins_pd['winner'] , labeldistance=1.15, wedgeprops = { 'linewidth' : 1, 'edgecolor' : 'white' } ,colors = colors)\n",
    "plt.title('Number of Games Won by Each Team')\n",
    "plt.show()\n",
    "\n",
    "plt.bar(team_wins_pd['winner'], team_wins_pd['wins'], color = colors)\n",
    "plt.xlabel('Team')\n",
    "plt.ylabel('Number of Wins')\n",
    "plt.title('Number of Games Won by Each Team')\n",
    "plt.show()"
   ]
  },
  {
   "cell_type": "code",
   "execution_count": 13,
   "id": "9f6ab2ca",
   "metadata": {},
   "outputs": [
    {
     "name": "stdout",
     "output_type": "stream",
     "text": [
      "+------+------+----+\n",
      "|season|winner|wins|\n",
      "+------+------+----+\n",
      "|  2008|    RR|  13|\n",
      "|  2008|  PBKS|  10|\n",
      "|  2008|   CSK|   9|\n",
      "|  2008|    MI|   7|\n",
      "|  2008|   KKR|   6|\n",
      "|  2008|    DC|   5|\n",
      "|  2008|   RCB|   4|\n",
      "|  2008|   SRH|   2|\n",
      "|  2009|   RCB|   9|\n",
      "|  2009|   SRH|   8|\n",
      "|  2009|    DC|   8|\n",
      "|  2009|   CSK|   8|\n",
      "|  2009|  PBKS|   7|\n",
      "|  2009|    MI|   5|\n",
      "|  2009|    RR|   5|\n",
      "|  2009|   KKR|   4|\n",
      "|  2010|    MI|  11|\n",
      "|  2010|   CSK|  10|\n",
      "|  2010|   RCB|   8|\n",
      "|  2010|    DC|   7|\n",
      "+------+------+----+\n",
      "only showing top 20 rows\n",
      "\n"
     ]
    }
   ],
   "source": [
    "# Group the data by season and winner, and count the number of rows for each group\n",
    "season_team_wins = df.groupBy('season', 'winner').agg(count('id').alias('wins'))\n",
    "\n",
    "# Show the results\n",
    "season_team_wins.orderBy(season_team_wins['season'].asc() , season_team_wins['wins'].desc()).show()"
   ]
  },
  {
   "cell_type": "code",
   "execution_count": 14,
   "id": "095f5005",
   "metadata": {},
   "outputs": [],
   "source": [
    "# Group the data by season and winner, and count the number of rows for each group\n",
    "#season_team_wins = df.groupBy('season', 'winner').agg(count('id').alias('wins'))\n",
    "\n",
    "# Show the results\n",
    "#season_team_wins = season_team_wins.orderBy(season_team_wins['season'].asc(), season_team_wins['wins'].desc())"
   ]
  },
  {
   "cell_type": "code",
   "execution_count": 15,
   "id": "a1886d6c",
   "metadata": {},
   "outputs": [
    {
     "name": "stdout",
     "output_type": "stream",
     "text": [
      "Season 2008:\n",
      "+------+------+----+\n",
      "|season|winner|wins|\n",
      "+------+------+----+\n",
      "|  2008|    RR|  13|\n",
      "|  2008|    MI|   7|\n",
      "|  2008|   RCB|   4|\n",
      "|  2008|  PBKS|  10|\n",
      "|  2008|   KKR|   6|\n",
      "|  2008|    DC|   5|\n",
      "|  2008|   CSK|   9|\n",
      "|  2008|   SRH|   2|\n",
      "+------+------+----+\n",
      "\n",
      "Season 2009:\n",
      "+------+------+----+\n",
      "|season|winner|wins|\n",
      "+------+------+----+\n",
      "|  2009|   KKR|   4|\n",
      "|  2009|    RR|   5|\n",
      "|  2009|  PBKS|   7|\n",
      "|  2009|   CSK|   8|\n",
      "|  2009|    MI|   5|\n",
      "|  2009|    DC|   8|\n",
      "|  2009|   SRH|   8|\n",
      "|  2009|   RCB|   9|\n",
      "+------+------+----+\n",
      "\n",
      "Season 2010:\n",
      "+------+------+----+\n",
      "|season|winner|wins|\n",
      "+------+------+----+\n",
      "|  2010|   SRH|   6|\n",
      "|  2010|    DC|   7|\n",
      "|  2010|   CSK|  10|\n",
      "|  2010|    RR|   6|\n",
      "|  2010|  PBKS|   3|\n",
      "|  2010|   KKR|   7|\n",
      "|  2010|    MI|  11|\n",
      "|  2010|   RCB|   8|\n",
      "+------+------+----+\n",
      "\n",
      "Season 2011:\n",
      "+------+------+----+\n",
      "|season|winner|wins|\n",
      "+------+------+----+\n",
      "|  2011|    RR|   6|\n",
      "|  2011|   KKR|   8|\n",
      "|  2011|   SRH|   5|\n",
      "|  2011|    MI|  10|\n",
      "|  2011|  PBKS|   7|\n",
      "|  2011|    DC|   3|\n",
      "|  2011|   CSK|  11|\n",
      "|  2011| Kochi|   6|\n",
      "|  2011|   RCB|  10|\n",
      "|  2011|   PWI|   4|\n",
      "+------+------+----+\n",
      "\n",
      "Season 2012:\n",
      "+------+------+----+\n",
      "|season|winner|wins|\n",
      "+------+------+----+\n",
      "|  2012|   CSK|  10|\n",
      "|  2012|    DC|   9|\n",
      "|  2012|    RR|   7|\n",
      "|  2012|   RCB|   8|\n",
      "|  2012|   KKR|  12|\n",
      "|  2012|   SRH|   4|\n",
      "|  2012|   PWI|   4|\n",
      "|  2012|    MI|  10|\n",
      "|  2012|  PBKS|   8|\n",
      "+------+------+----+\n",
      "\n",
      "Season 2013:\n",
      "+------+------+----+\n",
      "|season|winner|wins|\n",
      "+------+------+----+\n",
      "|  2013|   CSK|  12|\n",
      "|  2013|   SRH|  10|\n",
      "|  2013|   KKR|   6|\n",
      "|  2013|   RCB|   9|\n",
      "|  2013|    MI|  13|\n",
      "|  2013|   PWI|   4|\n",
      "|  2013|  PBKS|   8|\n",
      "|  2013|    RR|  11|\n",
      "|  2013|    DC|   3|\n",
      "+------+------+----+\n",
      "\n",
      "Season 2014:\n",
      "+------+------+----+\n",
      "|season|winner|wins|\n",
      "+------+------+----+\n",
      "|  2014|   RCB|   5|\n",
      "|  2014|   CSK|  10|\n",
      "|  2014|    DC|   2|\n",
      "|  2014|    MI|   7|\n",
      "|  2014|   KKR|  12|\n",
      "|  2014|   SRH|   6|\n",
      "|  2014|  PBKS|  12|\n",
      "|  2014|    RR|   6|\n",
      "+------+------+----+\n",
      "\n",
      "Season 2015:\n",
      "+------+------+----+\n",
      "|season|winner|wins|\n",
      "+------+------+----+\n",
      "|  2015|   KKR|   7|\n",
      "|  2015|  PBKS|   3|\n",
      "|  2015|    MI|  10|\n",
      "|  2015|   RCB|   8|\n",
      "|  2015|   CSK|  10|\n",
      "|  2015|    DC|   5|\n",
      "|  2015|    RR|   7|\n",
      "|  2015|   SRH|   7|\n",
      "+------+------+----+\n",
      "\n",
      "Season 2016:\n",
      "+------+------+----+\n",
      "|season|winner|wins|\n",
      "+------+------+----+\n",
      "|  2016|    GL|   9|\n",
      "|  2016|    MI|   7|\n",
      "|  2016|   SRH|  11|\n",
      "|  2016|   KKR|   8|\n",
      "|  2016|   RPS|   5|\n",
      "|  2016|   RCB|   9|\n",
      "|  2016|  PBKS|   4|\n",
      "|  2016|    DC|   7|\n",
      "+------+------+----+\n",
      "\n",
      "Season 2017:\n",
      "+------+------+----+\n",
      "|season|winner|wins|\n",
      "+------+------+----+\n",
      "|  2017|    DC|   6|\n",
      "|  2017|   RCB|   3|\n",
      "|  2017|   SRH|   8|\n",
      "|  2017|   KKR|   9|\n",
      "|  2017|  PBKS|   7|\n",
      "|  2017|   RPS|  10|\n",
      "|  2017|    GL|   4|\n",
      "|  2017|    MI|  12|\n",
      "+------+------+----+\n",
      "\n",
      "Season 2018:\n",
      "+------+------+----+\n",
      "|season|winner|wins|\n",
      "+------+------+----+\n",
      "|  2018|  PBKS|   6|\n",
      "|  2018|   SRH|  10|\n",
      "|  2018|    RR|   7|\n",
      "|  2018|   RCB|   6|\n",
      "|  2018|   CSK|  11|\n",
      "|  2018|   KKR|   9|\n",
      "|  2018|    MI|   6|\n",
      "|  2018|    DC|   5|\n",
      "+------+------+----+\n",
      "\n",
      "Season 2019:\n",
      "+------+------+----+\n",
      "|season|winner|wins|\n",
      "+------+------+----+\n",
      "|  2019|    MI|  10|\n",
      "|  2019|    RR|   5|\n",
      "|  2019|   SRH|   7|\n",
      "|  2019|   RCB|   5|\n",
      "|  2019|   KKR|   6|\n",
      "|  2019|   CSK|  10|\n",
      "|  2019|    DC|  10|\n",
      "|  2019|  PBKS|   6|\n",
      "+------+------+----+\n",
      "\n",
      "Season 2020:\n",
      "+------+------+----+\n",
      "|season|winner|wins|\n",
      "+------+------+----+\n",
      "|  2020|   RCB|   6|\n",
      "|  2020|    DC|   8|\n",
      "|  2020|   KKR|   6|\n",
      "|  2020|   SRH|   9|\n",
      "|  2020|    MI|  12|\n",
      "|  2020|  PBKS|   7|\n",
      "|  2020|   CSK|   6|\n",
      "|  2020|    RR|   6|\n",
      "+------+------+----+\n",
      "\n",
      "Season 2021:\n",
      "+------+------+----+\n",
      "|season|winner|wins|\n",
      "+------+------+----+\n",
      "|  2021|   RCB|   9|\n",
      "|  2021|  PBKS|   6|\n",
      "|  2021|    RR|   5|\n",
      "|  2021|   KKR|   9|\n",
      "|  2021|    MI|   7|\n",
      "|  2021|   SRH|   4|\n",
      "|  2021|   CSK|  11|\n",
      "|  2021|    DC|   9|\n",
      "+------+------+----+\n",
      "\n",
      "Season 2022:\n",
      "+------+------+----+\n",
      "|season|winner|wins|\n",
      "+------+------+----+\n",
      "|  2022|   RCB|   9|\n",
      "|  2022|   LSG|   9|\n",
      "|  2022|    DC|   7|\n",
      "|  2022|    RR|  10|\n",
      "|  2022|   CSK|   4|\n",
      "|  2022|    GT|  12|\n",
      "|  2022|  PBKS|   7|\n",
      "|  2022|   KKR|   6|\n",
      "|  2022|    MI|   4|\n",
      "|  2022|   SRH|   6|\n",
      "+------+------+----+\n",
      "\n"
     ]
    }
   ],
   "source": [
    "# Get the distinct values of the season column in ascending order\n",
    "seasons = [row['season'] for row in season_team_wins.select('season').distinct().orderBy('season').collect()]\n",
    "\n",
    "# Loop through the seasons and create separate dataframes for each year\n",
    "yearwise_dataframes = {}\n",
    "for season in seasons:\n",
    "    # Filter the data for the current season\n",
    "    season_data = season_team_wins.filter(season_team_wins.season == season)\n",
    "    # Store the data in a dictionary with the season as the key\n",
    "    yearwise_dataframes[season] = season_data\n",
    "    # Show the data for the current season\n",
    "    print('Season {}:'.format(season))\n",
    "    season_data.show()\n"
   ]
  },
  {
   "cell_type": "code",
   "execution_count": 18,
   "id": "7a215c47",
   "metadata": {},
   "outputs": [
    {
     "data": {
      "image/png": "[encoded data removed]",
      "text/plain": [
       "<Figure size 1440x720 with 16 Axes>"
      ]
     },
     "metadata": {
      "needs_background": "light"
     },
     "output_type": "display_data"
    }
   ],
   "source": [
    "import matplotlib.pyplot as plt\n",
    "import pandas as pd\n",
    "\n",
    "# Define the number of columns and rows of subplots\n",
    "n_cols = 4\n",
    "n_rows = (len(yearwise_dataframes) - 1) // n_cols + 1\n",
    "\n",
    "# Sort the seasons in ascending order\n",
    "seasons = sorted([row['season'] for row in season_team_wins.select('season').distinct().collect()])\n",
    "\n",
    "# Create the subplots\n",
    "fig, axs = plt.subplots(n_rows, n_cols, figsize=(20, 10))\n",
    "\n",
    "# Loop through the yearwise_dataframes dictionary and plot each dataframe\n",
    "i = 0\n",
    "j = 0\n",
    "for season in seasons:\n",
    "    df1 = yearwise_dataframes[season]\n",
    "    # Convert the 'wins' column to a scalar data type\n",
    "    df1 = df1.withColumn('wins', df1['wins'].cast('int'))\n",
    "    # Group the rows by team and get the total number of wins per team\n",
    "    df1 = df1.groupby('winner').sum('wins')\n",
    "    df1 = df1.toPandas()\n",
    "    # Create a bar plot for the current dataframe\n",
    "    ax = axs[i, j]\n",
    "    ax.bar(df1['winner'], df1['sum(wins)'])\n",
    "    ax.set_title('Season {}'.format(season))\n",
    "    ax.set_xlabel('Team')\n",
    "    ax.set_ylabel('Wins')\n",
    "    ax.tick_params(axis='x', rotation=90)\n",
    "    \n",
    "    # Update the row and column indices for the next subplot\n",
    "    j += 1\n",
    "    if j == n_cols:\n",
    "        i += 1\n",
    "        j = 0\n",
    "        \n",
    "# Adjust the spacing between subplots and show the plot\n",
    "plt.tight_layout()\n",
    "plt.show()"
   ]
  },
  {
   "cell_type": "code",
   "execution_count": null,
   "id": "d80cb6f3",
   "metadata": {},
   "outputs": [],
   "source": []
  },
  {
   "cell_type": "code",
   "execution_count": null,
   "id": "89ec5449",
   "metadata": {},
   "outputs": [],
   "source": []
  },
  {
   "cell_type": "code",
   "execution_count": null,
   "id": "b51d9afe",
   "metadata": {},
   "outputs": [],
   "source": []
  },
  {
   "cell_type": "code",
   "execution_count": null,
   "id": "ac325547",
   "metadata": {},
   "outputs": [],
   "source": []
  },
  {
   "cell_type": "code",
   "execution_count": null,
   "id": "99e158df",
   "metadata": {},
   "outputs": [],
   "source": []
  },
  {
   "cell_type": "code",
   "execution_count": null,
   "id": "4defb7b9",
   "metadata": {},
   "outputs": [],
   "source": []
  }
 ],
 "metadata": {
  "kernelspec": {
   "display_name": "Python 3 (ipykernel)",
   "language": "python",
   "name": "python3"
  },
  "language_info": {
   "codemirror_mode": {
    "name": "ipython",
    "version": 3
   },
   "file_extension": ".py",
   "mimetype": "text/x-python",
   "name": "python",
   "nbconvert_exporter": "python",
   "pygments_lexer": "ipython3",
   "version": "3.9.12"
  }
 },
 "nbformat": 4,
 "nbformat_minor": 5
}
